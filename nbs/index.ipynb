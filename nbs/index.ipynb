{
 "cells": [
  {
   "cell_type": "markdown",
   "metadata": {},
   "source": [
    "# GCP Python Client Functions\n",
    "\n",
    "> One package that will handle the installation and client generation for the most used  GCP Python Client Libraries & methods that avoid repetitive processes."
   ]
  },
  {
   "cell_type": "markdown",
   "metadata": {},
   "source": [
    "## Installation"
   ]
  },
  {
   "cell_type": "markdown",
   "metadata": {},
   "source": [
    "Launch a terminal and install by entering:  \n",
    "```sh\n",
    "conda install gcp_python_client_functions\n",
    "```\n",
    "...or  \n",
    "```sh\n",
    "pip install gcp_python_client_functions\n",
    "```"
   ]
  },
  {
   "cell_type": "markdown",
   "metadata": {},
   "source": [
    "## Usage Prerequisites  \n",
    "\n",
    "### 1. GCP environment\n",
    "- Create a GCP project by going to the [Resource Manager](https://console.cloud.google.com/project?_ga=2.198902124.2143434848.1693760593-97706481.1691864848) page in the cloud console ([cloud resources naming convention](https://stepan.wtf/cloud-naming-convention/#:~:text=The%20rule%20of%20thumb%20is,or%20within%20a%20given%20scope.)).\n",
    "- Enable billing for the project you'll work with by going to the [Cloud Billing](https://console.cloud.google.com/billing/) page and selecting your project on the top right corner (300 USD free credits are associated with new billing accounts + a [big list of free tier products](https://cloud.google.com/free?_ga=2.49992806.-1313173218.1693453955)).\n",
    "- Enable BigQuery API by going to [APIs & Services](https://console.cloud.google.com/apis/) page on the cloud console and looking for the BigQuery API.\n",
    "\n",
    "### 2. Authentication  \n",
    "[Authenticating](https://googleapis.dev/python/google-api-core/latest/auth.html) by... \n",
    "- (locally) using the [Google Cloud SDK](http://cloud.google.com/sdk)(installation needed). Launch a terminal enter:  \n",
    "```sh\n",
    "gcloud auth login --update-adc\n",
    "```\n",
    "- (elsewhere) [downloading a service account JSON keyfile](https://cloud.google.com/iam/docs/keys-create-delete#creating) and point to it using an environment variable:\n",
    "```sh\n",
    "export GOOGLE_APPLICATION_CREDENTIALS=\"/path/to/keyfile.json\"\n",
    "```\n",
    "- or through [Workflow Identity Provider](https://docs.github.com/en/actions/deployment/security-hardening-your-deployments/configuring-openid-connect-in-google-cloud-platform) (what we used to authenticate within GitHub Actions, see [Cloud Advocate's video](https://www.youtube.com/watch?v=zRF5uTWXV8Y) and [stackoverflow question](https://stackoverflow.com/questions/75573270/github-action-doesnt-work-with-gcp-403-permission-iam-serviceaccounts-getacc) for additional support)."
   ]
  },
  {
   "cell_type": "markdown",
   "metadata": {},
   "source": [
    "## How to use"
   ]
  },
  {
   "cell_type": "code",
   "execution_count": null,
   "metadata": {},
   "outputs": [],
   "source": [
    "from gcp_python_client_functions.clients import *\n",
    "\n",
    "PROJECT_ID = 'dz-learning-d'\n",
    "\n",
    "# BigQuery\n",
    "bq_obj = BigQuery(PROJECT_ID)\n",
    "\n",
    "# Cloud Storage\n",
    "stg_obj = Storage(PROJECT_ID)"
   ]
  },
  {
   "cell_type": "code",
   "execution_count": null,
   "metadata": {},
   "outputs": [],
   "source": []
  }
 ],
 "metadata": {
  "kernelspec": {
   "display_name": "test-env",
   "language": "python",
   "name": "test-env"
  }
 },
 "nbformat": 4,
 "nbformat_minor": 4
}
