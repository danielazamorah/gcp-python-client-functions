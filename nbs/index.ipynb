{
 "cells": [
  {
   "cell_type": "markdown",
   "metadata": {},
   "source": [
    "# GCP Python Client Reusable Functions\n",
    "\n",
    "> Reusable functions using GCP Python client libraries (independent of Google)."
   ]
  },
  {
   "cell_type": "markdown",
   "metadata": {},
   "source": [
    "## Install"
   ]
  },
  {
   "cell_type": "markdown",
   "metadata": {},
   "source": [
    "```sh\n",
    "pip install gcp_python_client_functions\n",
    "```"
   ]
  },
  {
   "cell_type": "markdown",
   "metadata": {},
   "source": [
    "## How to use"
   ]
  },
  {
   "cell_type": "markdown",
   "metadata": {},
   "source": [
    "Example of `bigquery` methods:"
   ]
  },
  {
   "cell_type": "code",
   "execution_count": null,
   "metadata": {},
   "outputs": [],
   "source": [
    "from gcp_python_client_functions.bigquery import *\n",
    "\n",
    "PROJECT = 'dz-learning-d'\n",
    "QUERY = \"\"\"\n",
    "        SELECT name FROM `bigquery-public-data.usa_names.usa_1910_2013`\n",
    "        WHERE state = \"TX\"\n",
    "        LIMIT 100\n",
    "        \"\"\"\n",
    "df = query_to_df(PROJECT, QUERY)"
   ]
  },
  {
   "cell_type": "code",
   "execution_count": null,
   "metadata": {},
   "outputs": [],
   "source": []
  }
 ],
 "metadata": {
  "kernelspec": {
   "display_name": "test-env",
   "language": "python",
   "name": "test-env"
  }
 },
 "nbformat": 4,
 "nbformat_minor": 4
}
